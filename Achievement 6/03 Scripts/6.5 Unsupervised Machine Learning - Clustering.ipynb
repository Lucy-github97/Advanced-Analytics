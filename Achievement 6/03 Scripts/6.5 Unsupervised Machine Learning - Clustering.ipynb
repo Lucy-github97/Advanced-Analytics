{
 "cells": [
  {
   "cell_type": "markdown",
   "id": "0945e585",
   "metadata": {},
   "source": [
    "## 6.5 Unsupervised Machine Learning - Clustering"
   ]
  },
  {
   "cell_type": "markdown",
   "id": "675f806d",
   "metadata": {},
   "source": [
    "### This script contains the following:\n",
    "\n",
    "#### 1. Importing libraries and data \n",
    "#### 2. The elbow technique\n",
    "#### 3. k-means clustering"
   ]
  },
  {
   "cell_type": "markdown",
   "id": "624e1f89",
   "metadata": {},
   "source": [
    "### 1. Importing libraries and data "
   ]
  },
  {
   "cell_type": "code",
   "execution_count": 73,
   "id": "467a5a4b",
   "metadata": {},
   "outputs": [],
   "source": [
    "import pandas as pd\n",
    "import numpy as np\n",
    "import seaborn as sns\n",
    "import matplotlib\n",
    "import matplotlib.pyplot as plt\n",
    "import os\n",
    "import sklearn\n",
    "from sklearn.cluster import KMeans \n",
    "import pylab as pl "
   ]
  },
  {
   "cell_type": "code",
   "execution_count": 74,
   "id": "68bf9405",
   "metadata": {},
   "outputs": [],
   "source": [
    "path = r'/Users/a/Career Foundry/Achievement 6/02 Data/02 Prepared Data'"
   ]
  },
  {
   "cell_type": "code",
   "execution_count": 75,
   "id": "e258dcea",
   "metadata": {},
   "outputs": [
    {
     "data": {
      "text/plain": [
       "'/Users/a/Career Foundry/Achievement 6/02 Data/02 Prepared Data'"
      ]
     },
     "execution_count": 75,
     "metadata": {},
     "output_type": "execute_result"
    }
   ],
   "source": [
    "path"
   ]
  },
  {
   "cell_type": "code",
   "execution_count": 76,
   "id": "d911675d",
   "metadata": {},
   "outputs": [],
   "source": [
    "# Importing dataset\n",
    "df = pd.read_csv(os.path.join(path, 'df_cleaned.csv'), index_col = False)"
   ]
  },
  {
   "cell_type": "code",
   "execution_count": 77,
   "id": "114ca504",
   "metadata": {},
   "outputs": [
    {
     "data": {
      "text/html": [
       "<div>\n",
       "<style scoped>\n",
       "    .dataframe tbody tr th:only-of-type {\n",
       "        vertical-align: middle;\n",
       "    }\n",
       "\n",
       "    .dataframe tbody tr th {\n",
       "        vertical-align: top;\n",
       "    }\n",
       "\n",
       "    .dataframe thead th {\n",
       "        text-align: right;\n",
       "    }\n",
       "</style>\n",
       "<table border=\"1\" class=\"dataframe\">\n",
       "  <thead>\n",
       "    <tr style=\"text-align: right;\">\n",
       "      <th></th>\n",
       "      <th>Unnamed: 0</th>\n",
       "      <th>Region</th>\n",
       "      <th>Country</th>\n",
       "      <th>City</th>\n",
       "      <th>Month</th>\n",
       "      <th>Day</th>\n",
       "      <th>Year</th>\n",
       "      <th>AvgTemperature</th>\n",
       "    </tr>\n",
       "  </thead>\n",
       "  <tbody>\n",
       "    <tr>\n",
       "      <th>0</th>\n",
       "      <td>0</td>\n",
       "      <td>Africa</td>\n",
       "      <td>Algeria</td>\n",
       "      <td>Algiers</td>\n",
       "      <td>1</td>\n",
       "      <td>1</td>\n",
       "      <td>1995</td>\n",
       "      <td>64.2</td>\n",
       "    </tr>\n",
       "    <tr>\n",
       "      <th>1</th>\n",
       "      <td>1</td>\n",
       "      <td>Africa</td>\n",
       "      <td>Algeria</td>\n",
       "      <td>Algiers</td>\n",
       "      <td>1</td>\n",
       "      <td>2</td>\n",
       "      <td>1995</td>\n",
       "      <td>49.4</td>\n",
       "    </tr>\n",
       "    <tr>\n",
       "      <th>2</th>\n",
       "      <td>2</td>\n",
       "      <td>Africa</td>\n",
       "      <td>Algeria</td>\n",
       "      <td>Algiers</td>\n",
       "      <td>1</td>\n",
       "      <td>3</td>\n",
       "      <td>1995</td>\n",
       "      <td>48.8</td>\n",
       "    </tr>\n",
       "    <tr>\n",
       "      <th>3</th>\n",
       "      <td>3</td>\n",
       "      <td>Africa</td>\n",
       "      <td>Algeria</td>\n",
       "      <td>Algiers</td>\n",
       "      <td>1</td>\n",
       "      <td>4</td>\n",
       "      <td>1995</td>\n",
       "      <td>46.4</td>\n",
       "    </tr>\n",
       "    <tr>\n",
       "      <th>4</th>\n",
       "      <td>4</td>\n",
       "      <td>Africa</td>\n",
       "      <td>Algeria</td>\n",
       "      <td>Algiers</td>\n",
       "      <td>1</td>\n",
       "      <td>5</td>\n",
       "      <td>1995</td>\n",
       "      <td>47.9</td>\n",
       "    </tr>\n",
       "  </tbody>\n",
       "</table>\n",
       "</div>"
      ],
      "text/plain": [
       "   Unnamed: 0  Region  Country     City  Month  Day  Year  AvgTemperature\n",
       "0           0  Africa  Algeria  Algiers      1    1  1995            64.2\n",
       "1           1  Africa  Algeria  Algiers      1    2  1995            49.4\n",
       "2           2  Africa  Algeria  Algiers      1    3  1995            48.8\n",
       "3           3  Africa  Algeria  Algiers      1    4  1995            46.4\n",
       "4           4  Africa  Algeria  Algiers      1    5  1995            47.9"
      ]
     },
     "execution_count": 77,
     "metadata": {},
     "output_type": "execute_result"
    }
   ],
   "source": [
    "df.head()"
   ]
  },
  {
   "cell_type": "code",
   "execution_count": 78,
   "id": "dc1a4589",
   "metadata": {},
   "outputs": [
    {
     "data": {
      "text/html": [
       "<div>\n",
       "<style scoped>\n",
       "    .dataframe tbody tr th:only-of-type {\n",
       "        vertical-align: middle;\n",
       "    }\n",
       "\n",
       "    .dataframe tbody tr th {\n",
       "        vertical-align: top;\n",
       "    }\n",
       "\n",
       "    .dataframe thead th {\n",
       "        text-align: right;\n",
       "    }\n",
       "</style>\n",
       "<table border=\"1\" class=\"dataframe\">\n",
       "  <thead>\n",
       "    <tr style=\"text-align: right;\">\n",
       "      <th></th>\n",
       "      <th>Year</th>\n",
       "      <th>AvgTemperature</th>\n",
       "    </tr>\n",
       "  </thead>\n",
       "  <tbody>\n",
       "    <tr>\n",
       "      <th>0</th>\n",
       "      <td>1995</td>\n",
       "      <td>64.2</td>\n",
       "    </tr>\n",
       "    <tr>\n",
       "      <th>1</th>\n",
       "      <td>1995</td>\n",
       "      <td>49.4</td>\n",
       "    </tr>\n",
       "    <tr>\n",
       "      <th>2</th>\n",
       "      <td>1995</td>\n",
       "      <td>48.8</td>\n",
       "    </tr>\n",
       "    <tr>\n",
       "      <th>3</th>\n",
       "      <td>1995</td>\n",
       "      <td>46.4</td>\n",
       "    </tr>\n",
       "    <tr>\n",
       "      <th>4</th>\n",
       "      <td>1995</td>\n",
       "      <td>47.9</td>\n",
       "    </tr>\n",
       "  </tbody>\n",
       "</table>\n",
       "</div>"
      ],
      "text/plain": [
       "   Year  AvgTemperature\n",
       "0  1995            64.2\n",
       "1  1995            49.4\n",
       "2  1995            48.8\n",
       "3  1995            46.4\n",
       "4  1995            47.9"
      ]
     },
     "execution_count": 78,
     "metadata": {},
     "output_type": "execute_result"
    }
   ],
   "source": [
    "# Creating a subset with only the variables we want to display in the map\n",
    "df_2 = df[['Year','AvgTemperature']]\n",
    "df_2.head()"
   ]
  },
  {
   "cell_type": "markdown",
   "id": "cc4af1ad",
   "metadata": {},
   "source": [
    "### 2. The elbow technique"
   ]
  },
  {
   "cell_type": "code",
   "execution_count": 79,
   "id": "07572a20",
   "metadata": {},
   "outputs": [],
   "source": [
    "num_cl = range(1, 10) \n",
    "kmeans = [KMeans(n_clusters=i) for i in num_cl] "
   ]
  },
  {
   "cell_type": "code",
   "execution_count": 80,
   "id": "d80b38ef",
   "metadata": {},
   "outputs": [],
   "source": [
    "score = [kmeans[i].fit(df_2).score(df_2) for i in range(len(kmeans))] "
   ]
  },
  {
   "cell_type": "code",
   "execution_count": 81,
   "id": "eef86d1e",
   "metadata": {
    "scrolled": true
   },
   "outputs": [
    {
     "data": {
      "image/png": "[encoded data removed]",
      "text/plain": [
       "<Figure size 432x288 with 1 Axes>"
      ]
     },
     "metadata": {
      "needs_background": "light"
     },
     "output_type": "display_data"
    }
   ],
   "source": [
    "pl.plot(num_cl,score)\n",
    "pl.xlabel('Number of Clusters')\n",
    "pl.ylabel('Score')\n",
    "pl.title('Elbow Curve')\n",
    "pl.show()"
   ]
  },
  {
   "cell_type": "markdown",
   "id": "d76db5f9",
   "metadata": {},
   "source": [
    "The optimal number of clusters is 3"
   ]
  },
  {
   "cell_type": "markdown",
   "id": "6a1ba5a7",
   "metadata": {},
   "source": [
    "### 3. k-means clustering\n"
   ]
  },
  {
   "cell_type": "code",
   "execution_count": 98,
   "id": "3199f075",
   "metadata": {},
   "outputs": [],
   "source": [
    "kmeans = KMeans(n_clusters = 3) \n",
    "\n"
   ]
  },
  {
   "cell_type": "markdown",
   "id": "ede6f343",
   "metadata": {},
   "source": [
    "I removed n_kobts = -1 from the code because I was getting a warning message that it will be removed from the next version. I decided to remove it in the exercise because otherwise I couldn´t not complete it"
   ]
  },
  {
   "cell_type": "code",
   "execution_count": 99,
   "id": "97d24545",
   "metadata": {},
   "outputs": [
    {
     "data": {
      "text/plain": [
       "KMeans(n_clusters=3)"
      ]
     },
     "execution_count": 99,
     "metadata": {},
     "output_type": "execute_result"
    }
   ],
   "source": [
    "# Fit the k-means object to the data.\n",
    "\n",
    "kmeans.fit(df_2)"
   ]
  },
  {
   "cell_type": "code",
   "execution_count": 100,
   "id": "00e15185",
   "metadata": {},
   "outputs": [],
   "source": [
    "df['clusters'] = kmeans.fit_predict(df_2)"
   ]
  },
  {
   "cell_type": "code",
   "execution_count": 105,
   "id": "441f48f6",
   "metadata": {
    "scrolled": false
   },
   "outputs": [
    {
     "data": {
      "text/html": [
       "<div>\n",
       "<style scoped>\n",
       "    .dataframe tbody tr th:only-of-type {\n",
       "        vertical-align: middle;\n",
       "    }\n",
       "\n",
       "    .dataframe tbody tr th {\n",
       "        vertical-align: top;\n",
       "    }\n",
       "\n",
       "    .dataframe thead th {\n",
       "        text-align: right;\n",
       "    }\n",
       "</style>\n",
       "<table border=\"1\" class=\"dataframe\">\n",
       "  <thead>\n",
       "    <tr style=\"text-align: right;\">\n",
       "      <th></th>\n",
       "      <th>Unnamed: 0</th>\n",
       "      <th>Region</th>\n",
       "      <th>Country</th>\n",
       "      <th>City</th>\n",
       "      <th>Month</th>\n",
       "      <th>Day</th>\n",
       "      <th>Year</th>\n",
       "      <th>AvgTemperature</th>\n",
       "      <th>clusters</th>\n",
       "      <th>cluster</th>\n",
       "    </tr>\n",
       "  </thead>\n",
       "  <tbody>\n",
       "    <tr>\n",
       "      <th>0</th>\n",
       "      <td>0</td>\n",
       "      <td>Africa</td>\n",
       "      <td>Algeria</td>\n",
       "      <td>Algiers</td>\n",
       "      <td>1</td>\n",
       "      <td>1</td>\n",
       "      <td>1995</td>\n",
       "      <td>64.2</td>\n",
       "      <td>0</td>\n",
       "      <td>NaN</td>\n",
       "    </tr>\n",
       "    <tr>\n",
       "      <th>1</th>\n",
       "      <td>1</td>\n",
       "      <td>Africa</td>\n",
       "      <td>Algeria</td>\n",
       "      <td>Algiers</td>\n",
       "      <td>1</td>\n",
       "      <td>2</td>\n",
       "      <td>1995</td>\n",
       "      <td>49.4</td>\n",
       "      <td>0</td>\n",
       "      <td>dark purple</td>\n",
       "    </tr>\n",
       "    <tr>\n",
       "      <th>2</th>\n",
       "      <td>2</td>\n",
       "      <td>Africa</td>\n",
       "      <td>Algeria</td>\n",
       "      <td>Algiers</td>\n",
       "      <td>1</td>\n",
       "      <td>3</td>\n",
       "      <td>1995</td>\n",
       "      <td>48.8</td>\n",
       "      <td>0</td>\n",
       "      <td>dark purple</td>\n",
       "    </tr>\n",
       "    <tr>\n",
       "      <th>3</th>\n",
       "      <td>3</td>\n",
       "      <td>Africa</td>\n",
       "      <td>Algeria</td>\n",
       "      <td>Algiers</td>\n",
       "      <td>1</td>\n",
       "      <td>4</td>\n",
       "      <td>1995</td>\n",
       "      <td>46.4</td>\n",
       "      <td>0</td>\n",
       "      <td>dark purple</td>\n",
       "    </tr>\n",
       "    <tr>\n",
       "      <th>4</th>\n",
       "      <td>4</td>\n",
       "      <td>Africa</td>\n",
       "      <td>Algeria</td>\n",
       "      <td>Algiers</td>\n",
       "      <td>1</td>\n",
       "      <td>5</td>\n",
       "      <td>1995</td>\n",
       "      <td>47.9</td>\n",
       "      <td>0</td>\n",
       "      <td>dark purple</td>\n",
       "    </tr>\n",
       "  </tbody>\n",
       "</table>\n",
       "</div>"
      ],
      "text/plain": [
       "   Unnamed: 0  Region  Country     City  Month  Day  Year  AvgTemperature  \\\n",
       "0           0  Africa  Algeria  Algiers      1    1  1995            64.2   \n",
       "1           1  Africa  Algeria  Algiers      1    2  1995            49.4   \n",
       "2           2  Africa  Algeria  Algiers      1    3  1995            48.8   \n",
       "3           3  Africa  Algeria  Algiers      1    4  1995            46.4   \n",
       "4           4  Africa  Algeria  Algiers      1    5  1995            47.9   \n",
       "\n",
       "   clusters      cluster  \n",
       "0         0          NaN  \n",
       "1         0  dark purple  \n",
       "2         0  dark purple  \n",
       "3         0  dark purple  \n",
       "4         0  dark purple  "
      ]
     },
     "execution_count": 105,
     "metadata": {},
     "output_type": "execute_result"
    }
   ],
   "source": [
    "df.head()"
   ]
  },
  {
   "cell_type": "code",
   "execution_count": 102,
   "id": "fa61d3ce",
   "metadata": {},
   "outputs": [
    {
     "data": {
      "text/plain": [
       "0    2825502\n",
       "1      80385\n",
       "2        440\n",
       "Name: clusters, dtype: int64"
      ]
     },
     "execution_count": 102,
     "metadata": {},
     "output_type": "execute_result"
    }
   ],
   "source": [
    "# Checking amount of observations under clusters column\n",
    "df['clusters'].value_counts()"
   ]
  },
  {
   "cell_type": "code",
   "execution_count": 103,
   "id": "6c6885a1",
   "metadata": {},
   "outputs": [
    {
     "data": {
      "image/png": "[encoded data removed]",
      "text/plain": [
       "<Figure size 864x576 with 1 Axes>"
      ]
     },
     "metadata": {
      "needs_background": "light"
     },
     "output_type": "display_data"
    }
   ],
   "source": [
    "# Plot the clusters for the \"Year\" and \"AvgTemperature\" variables.\n",
    "\n",
    "plt.figure(figsize=(12,8))\n",
    "ax = sns.scatterplot(x=df_2['Year'], y=df['AvgTemperature'], hue=kmeans.labels_, s=100) \n",
    "\n",
    "\n",
    "ax.grid(False) \n",
    "plt.xlabel('Year')\n",
    "plt.ylabel('AvgTemperature') \n",
    "plt.show()"
   ]
  },
  {
   "cell_type": "code",
   "execution_count": 107,
   "id": "69e4e32c",
   "metadata": {},
   "outputs": [],
   "source": [
    "df.loc[df['clusters'] == 2, 'cluster'] = 'dark purple'\n",
    "df.loc[df['clusters'] == 1, 'cluster'] = 'purple'\n",
    "df.loc[df['clusters'] == 0, 'cluster'] = 'pink'"
   ]
  },
  {
   "cell_type": "code",
   "execution_count": 108,
   "id": "c2e80916",
   "metadata": {
    "scrolled": true
   },
   "outputs": [
    {
     "data": {
      "text/html": [
       "<div>\n",
       "<style scoped>\n",
       "    .dataframe tbody tr th:only-of-type {\n",
       "        vertical-align: middle;\n",
       "    }\n",
       "\n",
       "    .dataframe tbody tr th {\n",
       "        vertical-align: top;\n",
       "    }\n",
       "\n",
       "    .dataframe thead tr th {\n",
       "        text-align: left;\n",
       "    }\n",
       "\n",
       "    .dataframe thead tr:last-of-type th {\n",
       "        text-align: right;\n",
       "    }\n",
       "</style>\n",
       "<table border=\"1\" class=\"dataframe\">\n",
       "  <thead>\n",
       "    <tr>\n",
       "      <th></th>\n",
       "      <th colspan=\"2\" halign=\"left\">Year</th>\n",
       "      <th colspan=\"2\" halign=\"left\">AvgTemperature</th>\n",
       "    </tr>\n",
       "    <tr>\n",
       "      <th></th>\n",
       "      <th>mean</th>\n",
       "      <th>median</th>\n",
       "      <th>mean</th>\n",
       "      <th>median</th>\n",
       "    </tr>\n",
       "    <tr>\n",
       "      <th>clusters</th>\n",
       "      <th></th>\n",
       "      <th></th>\n",
       "      <th></th>\n",
       "      <th></th>\n",
       "    </tr>\n",
       "  </thead>\n",
       "  <tbody>\n",
       "    <tr>\n",
       "      <th>0</th>\n",
       "      <td>2007.028343</td>\n",
       "      <td>2007.0</td>\n",
       "      <td>60.409023</td>\n",
       "      <td>63.3</td>\n",
       "    </tr>\n",
       "    <tr>\n",
       "      <th>1</th>\n",
       "      <td>2002.292691</td>\n",
       "      <td>2001.0</td>\n",
       "      <td>-97.949143</td>\n",
       "      <td>-99.0</td>\n",
       "    </tr>\n",
       "    <tr>\n",
       "      <th>2</th>\n",
       "      <td>200.797727</td>\n",
       "      <td>201.0</td>\n",
       "      <td>-99.000000</td>\n",
       "      <td>-99.0</td>\n",
       "    </tr>\n",
       "  </tbody>\n",
       "</table>\n",
       "</div>"
      ],
      "text/plain": [
       "                 Year         AvgTemperature       \n",
       "                 mean  median           mean median\n",
       "clusters                                           \n",
       "0         2007.028343  2007.0      60.409023   63.3\n",
       "1         2002.292691  2001.0     -97.949143  -99.0\n",
       "2          200.797727   201.0     -99.000000  -99.0"
      ]
     },
     "execution_count": 108,
     "metadata": {},
     "output_type": "execute_result"
    }
   ],
   "source": [
    "df.groupby('clusters').agg({'Year':['mean', 'median'], \n",
    "                         'AvgTemperature':['mean', 'median']})"
   ]
  },
  {
   "cell_type": "markdown",
   "id": "bd132558",
   "metadata": {},
   "source": [
    "The best cluster is the pink one, which has the best stats. The Average Temperature variable seems to have a relevance in this case and it´s the highest for the pink cluster"
   ]
  },
  {
   "cell_type": "code",
   "execution_count": null,
   "id": "a3c1c27f",
   "metadata": {},
   "outputs": [],
   "source": []
  }
 ],
 "metadata": {
  "kernelspec": {
   "display_name": "Python 3 (ipykernel)",
   "language": "python",
   "name": "python3"
  },
  "language_info": {
   "codemirror_mode": {
    "name": "ipython",
    "version": 3
   },
   "file_extension": ".py",
   "mimetype": "text/x-python",
   "name": "python",
   "nbconvert_exporter": "python",
   "pygments_lexer": "ipython3",
   "version": "3.9.7"
  }
 },
 "nbformat": 4,
 "nbformat_minor": 5
}
